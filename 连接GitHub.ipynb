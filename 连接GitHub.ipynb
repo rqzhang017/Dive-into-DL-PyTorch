{
  "nbformat": 4,
  "nbformat_minor": 0,
  "metadata": {
    "colab": {
      "provenance": [],
      "mount_file_id": "1reMIql2YHe3-F6MeIwIVH9qFFxArNi2F",
      "authorship_tag": "ABX9TyPu4g8TJIzpV+CjN/m/JCG1",
      "include_colab_link": true
    },
    "kernelspec": {
      "name": "python3",
      "display_name": "Python 3"
    },
    "language_info": {
      "name": "python"
    }
  },
  "cells": [
    {
      "cell_type": "markdown",
      "metadata": {
        "id": "view-in-github",
        "colab_type": "text"
      },
      "source": [
        "<a href=\"https://colab.research.google.com/github/rqzhang017/Dive-into-DL-PyTorch/blob/master/%E8%BF%9E%E6%8E%A5GitHub.ipynb\" target=\"_parent\"><img src=\"https://colab.research.google.com/assets/colab-badge.svg\" alt=\"Open In Colab\"/></a>"
      ]
    },
    {
      "cell_type": "code",
      "execution_count": 1,
      "metadata": {
        "colab": {
          "base_uri": "https://localhost:8080/"
        },
        "id": "cu9bFzTlh0Q3",
        "outputId": "c35ea3d5-ea09-41e4-8f19-dc6a723717da"
      },
      "outputs": [
        {
          "output_type": "stream",
          "name": "stdout",
          "text": [
            "Cloning into 'Dive-into-DL-PyTorch'...\n",
            "remote: Enumerating objects: 1822, done.\u001b[K\n",
            "remote: Total 1822 (delta 0), reused 0 (delta 0), pack-reused 1822\u001b[K\n",
            "Receiving objects: 100% (1822/1822), 34.33 MiB | 24.31 MiB/s, done.\n",
            "Resolving deltas: 100% (1058/1058), done.\n"
          ]
        }
      ],
      "source": [
        "!git clone https://github.com/rqzhang017/Dive-into-DL-PyTorch.git"
      ]
    }
  ]
}